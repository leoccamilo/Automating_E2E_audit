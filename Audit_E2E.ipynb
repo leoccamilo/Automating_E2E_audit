{
 "cells": [
  {
   "cell_type": "code",
   "execution_count": null,
   "id": "00be6384-25ec-4107-a8bc-69d5d1fc0e25",
   "metadata": {},
   "outputs": [],
   "source": [
    "import pandas as pd\n",
    "import re\n",
    "import os\n",
    "from glob import glob\n",
    "\n",
    "# Initializing variables\n",
    "data = []\n",
    "\n",
    "# Getting the list of .txt files in the folder. In this case, I created a folder called E2E in the C drive.\n",
    "txt_files = glob('C:/E2E/*.txt')\n",
    "\n",
    "# Loop to process each file\n",
    "for file in txt_files:\n",
    "    # Getting the file name (it has the NE name). \n",
    "    file_name = os.path.basename(file)\n",
    "    file_name = os.path.splitext(file_name)[0]\n",
    "    \n",
    "    # Opening the text file\n",
    "    with open(file, 'r') as f:\n",
    "        current_mo = None\n",
    "        for line in f:\n",
    "            # Searching for MO\n",
    "            mo_match = re.match(r'/\\* MOC = (.*) \\*/', line.strip())\n",
    "            if mo_match:\n",
    "                current_mo = mo_match.group(1)\n",
    "            # Searching for parameters and their values, considering the required info are in \"SET\" and \"MOD\" rows. \n",
    "            param_match = re.match(r'(SET|MOD) (.*):(.*)', line.strip())\n",
    "            if param_match and current_mo:\n",
    "                params = param_match.group(3).split(',')\n",
    "                for param in params:\n",
    "                    param_parts = param.split('=')\n",
    "                    if len(param_parts) == 2:\n",
    "                        param_name, param_value = param_parts\n",
    "                        param_value = param_value.strip().rstrip(';')\n",
    "                        command_match = re.search(r'(SET|MOD)\\s([^:]+):', line.strip())\n",
    "                        if command_match:\n",
    "                            command = command_match.group(2)\n",
    "                        else:\n",
    "                            command = \"\"\n",
    "                        data.append([current_mo.strip(), command.strip(), param_name.strip(), param_value, file_name])\n",
    "\n",
    "# Creating the DataFrame\n",
    "df = pd.DataFrame(data, columns=[\"MO\", \"Command\", \"Parameter\", \"Parameter_Value\", \"Element\"])\n",
    "\n",
    "df.drop_duplicates(subset=[\"MO\", \"Command\", \"Parameter\", \"Parameter_Value\", \"Element\"], inplace=True)\n",
    "\n",
    "# Adding the \"Value_Count\" column\n",
    "df[\"Value_Count\"] = df.groupby([\"Command\", \"Parameter\", \"Parameter_Value\"])[\"Element\"].transform(\"count\")\n",
    "\n",
    "# Adding the \"Element_Count\" column\n",
    "df[\"Element_Count\"] = df.groupby([\"Parameter\", \"Command\"])[\"Element\"].transform(\"count\")\n",
    "\n",
    "# Printing the DataFrame\n",
    "print(df)"
   ]
  }
 ],
 "metadata": {
  "kernelspec": {
   "display_name": "Python 3 (ipykernel)",
   "language": "python",
   "name": "python3"
  },
  "language_info": {
   "codemirror_mode": {
    "name": "ipython",
    "version": 3
   },
   "file_extension": ".py",
   "mimetype": "text/x-python",
   "name": "python",
   "nbconvert_exporter": "python",
   "pygments_lexer": "ipython3",
   "version": "3.9.13"
  }
 },
 "nbformat": 4,
 "nbformat_minor": 5
}
